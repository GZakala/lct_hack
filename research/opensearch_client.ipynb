{
 "cells": [
  {
   "cell_type": "code",
   "execution_count": 1,
   "metadata": {},
   "outputs": [],
   "source": [
    "import sys \n",
    "from pathlib import Path\n",
    "sys.path.insert(0, str(Path.cwd().parent / 'statistics_server'))\n",
    "\n",
    "from opensearch_client import OpensearchClient\n",
    "from psql_client import PSQLClient\n",
    "\n",
    "sql_client = PSQLClient(\n",
    "\thost='localhost',\n",
    "\tport=5432,\n",
    "\tuser='default',\n",
    "\tpassword='12345',\n",
    "\tdbname='hack',\n",
    ")\n",
    "\n",
    "client = OpensearchClient(\n",
    "\thost='localhost',\n",
    "\tport=9200,\n",
    "\tuser='admin',\n",
    "\tpassword='admin',\n",
    "\tsql_client=sql_client,\n",
    ")"
   ]
  },
  {
   "cell_type": "code",
   "execution_count": 2,
   "metadata": {},
   "outputs": [],
   "source": [
    "client.create_restrictions_index(True)"
   ]
  },
  {
   "cell_type": "code",
   "execution_count": 3,
   "metadata": {},
   "outputs": [
    {
     "data": {
      "text/plain": [
       "[{'entity_id': '672525085',\n",
       "  'okpd2_code': '',\n",
       "  'name': 'Консервы из мяса и субпродуктов птицы, мясо-растительные и растительно-мясные с использованием мяса птицы для детского питания',\n",
       "  'doughters': '',\n",
       "  'restrictions': 'Лот относится к аукционной продукции.\\nДопустимые способы определения поставщика: электронный аукцион, электронный запрос котировок, электронный запрос предложений, закрытый аукцион и закупка у единственного поставщика. Правило: закупка осуществляется в соответствии с 44 ФЗ,  не офсет, не муниципальный заказчик. \\n'}]"
      ]
     },
     "execution_count": 3,
     "metadata": {},
     "output_type": "execute_result"
    }
   ],
   "source": [
    "client.search_restrictions('мясо')"
   ]
  },
  {
   "cell_type": "code",
   "execution_count": null,
   "metadata": {},
   "outputs": [],
   "source": []
  },
  {
   "cell_type": "code",
   "execution_count": null,
   "metadata": {},
   "outputs": [],
   "source": []
  },
  {
   "cell_type": "code",
   "execution_count": 3,
   "metadata": {},
   "outputs": [
    {
     "name": "stdout",
     "output_type": "stream",
     "text": [
      "yellow open contracts XNBXhjNbRd6L-OLtK-89zQ 1 1 1107 0 305.6kb 305.6kb\n",
      "\n"
     ]
    }
   ],
   "source": [
    "print(client.client.cat.indices('contracts'))"
   ]
  },
  {
   "cell_type": "markdown",
   "metadata": {},
   "source": [
    "### Метч таблиц balances_data и procurement_contracts"
   ]
  },
  {
   "cell_type": "code",
   "execution_count": null,
   "metadata": {},
   "outputs": [],
   "source": [
    "from tqdm import tqdm\n",
    "\n",
    "balances_rows = client.sql_client.select('select id, item_name from balances_account')\n",
    "balances_procurement_contracts_match = []\n",
    "for row in tqdm(balances_rows):\n",
    "\tcontracts_match = client.search_contract_subject(row['item_name'], 2)\n",
    "\tif not contracts_match:\n",
    "\t\tbalances_procurement_contracts_match.append({\n",
    "\t\t\t'balances_id': row['id'],\n",
    "\t\t\t'balances_item_name': row['item_name'],\n",
    "\t\t\t'matched': False,\n",
    "\t\t})\n",
    "\t\tcontinue\n",
    "\t\n",
    "\tmatch_row = {\n",
    "\t\t'balances_id': row['id'],\n",
    "\t\t'balances_item_name': row['item_name'],\n",
    "\t\t'contracts_contract_id': contracts_match[0]['contract_id'],\n",
    "\t\t'contracts_lot_number': contracts_match[0]['lot_number'],\n",
    "\t\t'contracts_spgz_name': contracts_match[0]['spgz_name'],\n",
    "\t\t'contracts_contract_subject': contracts_match[0]['contract_subject'],\n",
    "\t\t'matched': True,\n",
    "\t}\n",
    "\tif len(contracts_match) > 1:\n",
    "\t\tmatch_row['contracts_contract_id_2_match'] = contracts_match[1]['contract_id']\n",
    "\t\tmatch_row['contracts_lot_number_2_match'] = contracts_match[1]['lot_number']\n",
    "\telse:\n",
    "\t\tmatch_row['contracts_contract_id_2_match'] = ''\n",
    "\t\tmatch_row['contracts_lot_number_2_match'] = ''\n",
    "\n",
    "\tbalances_procurement_contracts_match.append(match_row)"
   ]
  },
  {
   "cell_type": "code",
   "execution_count": null,
   "metadata": {},
   "outputs": [],
   "source": [
    "print(len(balances_procurement_contracts_match))\n",
    "print(len([t for t in balances_procurement_contracts_match if t['matched']]))"
   ]
  },
  {
   "cell_type": "code",
   "execution_count": null,
   "metadata": {},
   "outputs": [],
   "source": [
    "import pandas as pd\n",
    "df = pd.DataFrame(balances_procurement_contracts_match)\n",
    "df.head(2)"
   ]
  },
  {
   "cell_type": "code",
   "execution_count": null,
   "metadata": {},
   "outputs": [],
   "source": [
    "# CREATE TABLE public.match_contr_bal (\n",
    "# \tbalances_id text NULL,\n",
    "# \tbalances_item_name text NULL,\n",
    "# \tcontracts_contract_id text NULL,\n",
    "# \tcontract_lot_number text NULL,\n",
    "# \tcontracts_spgz_name text NULL,\n",
    "# \tcontracts_contract_subject text NULL,\n",
    "# \tcontracts_contract_id_2_match text NULL,\n",
    "# \tcontracts_lot_number_2_match text NULL,\n",
    "# \t\"matched\" bool NULL\n",
    "# );\n",
    "cursor = client.sql_client.client.cursor()\n",
    "for row in tadm(balances_procurement_contracts_match):\n",
    "\tcursor.execute(f\"\"\"\n",
    "\tinsert into match_contr_bal values (\n",
    "\t\t'{row.get('balances_id', '')}',\n",
    "\t\t'{row.get('balances_item_name', '')}',\n",
    "\t\t'{row.get('contracts_contract_id', '')}',\n",
    "\t\t'{row.get('contracts_lot_number', '')}',\n",
    "\t\t'{row.get('contracts_spgz_name', '')}',\n",
    "\t\t'{row.get('contracts_contract_subject', '')}',\n",
    "\t\t'{row.get('contracts_contract_id_2_match', '')}',\n",
    "\t\t'{row.get('contracts_lot_number_2_match', '')}',\n",
    "\t\t{row.get('matched')}\n",
    "\t)\n",
    "\t\"\"\")\n",
    "client.sql_client.client.commit()\n",
    "cursor.close()"
   ]
  },
  {
   "cell_type": "code",
   "execution_count": null,
   "metadata": {},
   "outputs": [],
   "source": [
    "client.sql_client.client.commit()"
   ]
  },
  {
   "cell_type": "markdown",
   "metadata": {},
   "source": [
    "### Метч таблиц balances_account и procurement_contracts"
   ]
  },
  {
   "cell_type": "code",
   "execution_count": null,
   "metadata": {},
   "outputs": [],
   "source": [
    "from tqdm import tqdm\n",
    "\n",
    "financial_rows = client.sql_client.select('select id, item_name from financial_data')\n",
    "financian_procurement_contracts_match = []\n",
    "for row in tqdm(financial_rows):\n",
    "\tcontracts_match = client.search_contract_subject(row['item_name'], 2)\n",
    "\tif not contracts_match:\n",
    "\t\tfinancian_procurement_contracts_match.append({\n",
    "\t\t\t'financial_id': row['id'],\n",
    "\t\t\t'financial_item_name': row['item_name'],\n",
    "\t\t\t'matched': False,\n",
    "\t\t})\n",
    "\t\tcontinue\n",
    "\t\n",
    "\tmatch_row = {\n",
    "\t\t'financial_id': row['id'],\n",
    "\t\t'financial_item_name': row['item_name'],\n",
    "\t\t'contracts_contract_id': contracts_match[0]['contract_id'],\n",
    "\t\t'contracts_lot_number': contracts_match[0]['lot_number'],\n",
    "\t\t'contracts_spgz_name': contracts_match[0]['spgz_name'],\n",
    "\t\t'contracts_contract_subject': contracts_match[0]['contract_subject'],\n",
    "\t\t'matched': True,\n",
    "\t}\n",
    "\tif len(contracts_match) > 1:\n",
    "\t\tmatch_row['contracts_contract_id_2_match'] = contracts_match[1]['contract_id']\n",
    "\t\tmatch_row['contracts_lot_number_2_match'] = contracts_match[1]['lot_number']\n",
    "\telse:\n",
    "\t\tmatch_row['contracts_contract_id_2_match'] = ''\n",
    "\t\tmatch_row['contracts_lot_number_2_match'] = ''\n",
    "\n",
    "\tfinancian_procurement_contracts_match.append(match_row)"
   ]
  },
  {
   "cell_type": "code",
   "execution_count": null,
   "metadata": {},
   "outputs": [],
   "source": [
    "print(len(financian_procurement_contracts_match))\n",
    "print(len([t for t in financian_procurement_contracts_match if t['matched']]))"
   ]
  },
  {
   "cell_type": "code",
   "execution_count": null,
   "metadata": {},
   "outputs": [],
   "source": [
    "import pandas as pd\n",
    "df = pd.DataFrame(financian_procurement_contracts_match)\n",
    "df.head(2)"
   ]
  },
  {
   "cell_type": "code",
   "execution_count": null,
   "metadata": {},
   "outputs": [],
   "source": [
    "# CREATE TABLE public.match_contr_fin (\n",
    "# \tfinancial_id text NULL,\n",
    "# \tfinancial_item_name text NULL,\n",
    "# \tcontracts_contract_id text NULL,\n",
    "# \tcontract_lot_number text NULL,\n",
    "# \tcontracts_spgz_name text NULL,\n",
    "# \tcontracts_contract_subject text NULL,\n",
    "# \tcontracts_contract_id_2_match text NULL,\n",
    "# \tcontracts_lot_number_2_match text NULL,\n",
    "# \t\"matched\" bool NULL\n",
    "# );\n",
    "cursor = client.sql_client.client.cursor()\n",
    "for row in financian_procurement_contracts_match:\n",
    "\tcursor.execute(f\"\"\"\n",
    "\tinsert into match_contr_fin values (\n",
    "\t\t'{row.get('financial_id', '')}',\n",
    "\t\t'{row.get('financial_item_name', '')}',\n",
    "\t\t'{row.get('contracts_contract_id', '')}',\n",
    "\t\t'{row.get('contracts_lot_number', '')}',\n",
    "\t\t'{row.get('contracts_spgz_name', '')}',\n",
    "\t\t'{row.get('contracts_contract_subject', '')}',\n",
    "\t\t'{row.get('contracts_contract_id_2_match', '')}',\n",
    "\t\t'{row.get('contracts_lot_number_2_match', '')}',\n",
    "\t\t{row.get('matched')}\n",
    "\t)\n",
    "\t\"\"\")\n",
    "client.sql_client.client.commit()\n",
    "cursor.close()"
   ]
  },
  {
   "cell_type": "code",
   "execution_count": null,
   "metadata": {},
   "outputs": [],
   "source": [
    "client.sql_client.client.commit()"
   ]
  },
  {
   "cell_type": "code",
   "execution_count": null,
   "metadata": {},
   "outputs": [],
   "source": []
  },
  {
   "cell_type": "code",
   "execution_count": null,
   "metadata": {},
   "outputs": [],
   "source": [
    "[t for t in financian_procurement_contracts_match if not t['matched']]"
   ]
  },
  {
   "cell_type": "code",
   "execution_count": null,
   "metadata": {},
   "outputs": [],
   "source": []
  }
 ],
 "metadata": {
  "kernelspec": {
   "display_name": ".venv",
   "language": "python",
   "name": "python3"
  },
  "language_info": {
   "codemirror_mode": {
    "name": "ipython",
    "version": 3
   },
   "file_extension": ".py",
   "mimetype": "text/x-python",
   "name": "python",
   "nbconvert_exporter": "python",
   "pygments_lexer": "ipython3",
   "version": "3.12.3"
  }
 },
 "nbformat": 4,
 "nbformat_minor": 2
}
