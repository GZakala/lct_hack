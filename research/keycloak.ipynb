{
 "cells": [
  {
   "cell_type": "code",
   "execution_count": 2,
   "metadata": {},
   "outputs": [],
   "source": [
    "KEYCLOAK_SERVER_URL='https://auth.cosahack.ru/'\n",
    "KEYCLOAK_REALM_NAME='master'\n",
    "KEYCLOAK_CLIENT_ID='auth'\n",
    "KEYCLOAK_CLIENT_SECRET='rOqPbuY9oDo8i87nmUxfwMffpTJyNOo7'\n",
    "KEYCLOAK_REDIRECT_URI='https://auth.cosahack.ru/'\n",
    "API_TOKEN='6509890779:AAGcfQERzevJRroS9FNFn2bKIYeNXvfrQEA'\n",
    "from keycloak import KeycloakOpenID\n"
   ]
  },
  {
   "cell_type": "code",
   "execution_count": 21,
   "metadata": {},
   "outputs": [
    {
     "data": {
      "text/plain": [
       "['json', 'admin', 'forecast']"
      ]
     },
     "execution_count": 21,
     "metadata": {},
     "output_type": "execute_result"
    }
   ],
   "source": [
    "# Создание экземпляра KeycloakOpenID\n",
    "keycloak_openid = KeycloakOpenID(\n",
    "    server_url=KEYCLOAK_SERVER_URL,\n",
    "    client_id=KEYCLOAK_CLIENT_ID,\n",
    "    realm_name=KEYCLOAK_REALM_NAME,\n",
    "    client_secret_key=KEYCLOAK_CLIENT_SECRET\n",
    ")\n",
    "KEYCLOAK_USERNAME = 'admin'\n",
    "KEYCLOAK_PASSWORD = 'admin'\n",
    "# Получение токена\n",
    "access_token = keycloak_openid.token(KEYCLOAK_USERNAME, KEYCLOAK_PASSWORD)\n",
    "\n",
    "# Вывод токена доступа\n",
    "import jwt\n",
    "\n",
    "# Декодирование токена\n",
    "decoded_token = jwt.decode(access_token['access_token'], options={\"verify_signature\": False})\n",
    "\n",
    "# Проверка наличия роли\n",
    "roles = decoded_token.get(\"resource_access\", {}).get(\"auth\", []).get('roles', [])\n",
    "roles"
   ]
  }
 ],
 "metadata": {
  "kernelspec": {
   "display_name": ".venv",
   "language": "python",
   "name": "python3"
  },
  "language_info": {
   "codemirror_mode": {
    "name": "ipython",
    "version": 3
   },
   "file_extension": ".py",
   "mimetype": "text/x-python",
   "name": "python",
   "nbconvert_exporter": "python",
   "pygments_lexer": "ipython3",
   "version": "3.12.3"
  }
 },
 "nbformat": 4,
 "nbformat_minor": 2
}
