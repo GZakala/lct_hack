{
 "cells": [
  {
   "cell_type": "markdown",
   "metadata": {},
   "source": [
    "### Ведомость остаткой"
   ]
  },
  {
   "cell_type": "code",
   "execution_count": 1,
   "metadata": {},
   "outputs": [
    {
     "data": {
      "text/html": [
       "<div>\n",
       "<style scoped>\n",
       "    .dataframe tbody tr th:only-of-type {\n",
       "        vertical-align: middle;\n",
       "    }\n",
       "\n",
       "    .dataframe tbody tr th {\n",
       "        vertical-align: top;\n",
       "    }\n",
       "\n",
       "    .dataframe thead th {\n",
       "        text-align: right;\n",
       "    }\n",
       "</style>\n",
       "<table border=\"1\" class=\"dataframe\">\n",
       "  <thead>\n",
       "    <tr style=\"text-align: right;\">\n",
       "      <th></th>\n",
       "      <th>№ п/п</th>\n",
       "      <th>Unnamed: 1</th>\n",
       "      <th>Основное средство</th>\n",
       "      <th>Unnamed: 3</th>\n",
       "      <th>Unnamed: 4</th>\n",
       "      <th>Unnamed: 5</th>\n",
       "      <th>Unnamed: 6</th>\n",
       "      <th>Unnamed: 7</th>\n",
       "      <th>Unnamed: 8</th>\n",
       "      <th>Инвентарный номер</th>\n",
       "      <th>...</th>\n",
       "      <th>Способ начисления амортизации</th>\n",
       "      <th>Дата принятия к учету</th>\n",
       "      <th>Состояние</th>\n",
       "      <th>Срок полезного использования</th>\n",
       "      <th>Мес. норма износа, %</th>\n",
       "      <th>Износ, %</th>\n",
       "      <th>Unnamed: 19</th>\n",
       "      <th>Unnamed: 20</th>\n",
       "      <th>Unnamed: 21</th>\n",
       "      <th>Unnamed: 22</th>\n",
       "    </tr>\n",
       "  </thead>\n",
       "  <tbody>\n",
       "    <tr>\n",
       "      <th>0</th>\n",
       "      <td>113</td>\n",
       "      <td>NaN</td>\n",
       "      <td>Термогигрометр TESTO 410-2</td>\n",
       "      <td>NaN</td>\n",
       "      <td>NaN</td>\n",
       "      <td>NaN</td>\n",
       "      <td>NaN</td>\n",
       "      <td>NaN</td>\n",
       "      <td>NaN</td>\n",
       "      <td>1.101360e+13</td>\n",
       "      <td>...</td>\n",
       "      <td>100% при вводе в эксплуатацию</td>\n",
       "      <td>15.07.2020</td>\n",
       "      <td>Введено в эксплуатацию</td>\n",
       "      <td>60.0</td>\n",
       "      <td>1.667</td>\n",
       "      <td>100</td>\n",
       "      <td>14060.00</td>\n",
       "      <td>1.0</td>\n",
       "      <td>14060.00</td>\n",
       "      <td>0.0</td>\n",
       "    </tr>\n",
       "    <tr>\n",
       "      <th>1</th>\n",
       "      <td>114</td>\n",
       "      <td>NaN</td>\n",
       "      <td>Стеллаж СТ-150 2000х1000х600 5 полок, 150кг на...</td>\n",
       "      <td>NaN</td>\n",
       "      <td>NaN</td>\n",
       "      <td>NaN</td>\n",
       "      <td>NaN</td>\n",
       "      <td>NaN</td>\n",
       "      <td>NaN</td>\n",
       "      <td>1.101361e+13</td>\n",
       "      <td>...</td>\n",
       "      <td>100% при вводе в эксплуатацию</td>\n",
       "      <td>06.09.2021</td>\n",
       "      <td>Введено в эксплуатацию</td>\n",
       "      <td>180.0</td>\n",
       "      <td>0.556</td>\n",
       "      <td>100</td>\n",
       "      <td>12213.00</td>\n",
       "      <td>1.0</td>\n",
       "      <td>12213.00</td>\n",
       "      <td>0.0</td>\n",
       "    </tr>\n",
       "    <tr>\n",
       "      <th>2</th>\n",
       "      <td>115</td>\n",
       "      <td>NaN</td>\n",
       "      <td>Стеллаж СТ-150 2000х1000х400 6 полок, 150кг на...</td>\n",
       "      <td>NaN</td>\n",
       "      <td>NaN</td>\n",
       "      <td>NaN</td>\n",
       "      <td>NaN</td>\n",
       "      <td>NaN</td>\n",
       "      <td>NaN</td>\n",
       "      <td>1.101361e+13</td>\n",
       "      <td>...</td>\n",
       "      <td>100% при вводе в эксплуатацию</td>\n",
       "      <td>06.09.2021</td>\n",
       "      <td>Введено в эксплуатацию</td>\n",
       "      <td>180.0</td>\n",
       "      <td>0.556</td>\n",
       "      <td>100</td>\n",
       "      <td>11216.49</td>\n",
       "      <td>1.0</td>\n",
       "      <td>11216.49</td>\n",
       "      <td>0.0</td>\n",
       "    </tr>\n",
       "  </tbody>\n",
       "</table>\n",
       "<p>3 rows × 23 columns</p>\n",
       "</div>"
      ],
      "text/plain": [
       "  № п/п  Unnamed: 1                                  Основное средство  \\\n",
       "0   113         NaN                         Термогигрометр TESTO 410-2   \n",
       "1   114         NaN  Стеллаж СТ-150 2000х1000х600 5 полок, 150кг на...   \n",
       "2   115         NaN  Стеллаж СТ-150 2000х1000х400 6 полок, 150кг на...   \n",
       "\n",
       "  Unnamed: 3  Unnamed: 4 Unnamed: 5  Unnamed: 6  Unnamed: 7 Unnamed: 8  \\\n",
       "0        NaN         NaN        NaN         NaN         NaN        NaN   \n",
       "1        NaN         NaN        NaN         NaN         NaN        NaN   \n",
       "2        NaN         NaN        NaN         NaN         NaN        NaN   \n",
       "\n",
       "   Инвентарный номер  ...  Способ начисления амортизации  \\\n",
       "0       1.101360e+13  ...  100% при вводе в эксплуатацию   \n",
       "1       1.101361e+13  ...  100% при вводе в эксплуатацию   \n",
       "2       1.101361e+13  ...  100% при вводе в эксплуатацию   \n",
       "\n",
       "   Дата принятия к учету               Состояние Срок полезного использования  \\\n",
       "0             15.07.2020  Введено в эксплуатацию                         60.0   \n",
       "1             06.09.2021  Введено в эксплуатацию                        180.0   \n",
       "2             06.09.2021  Введено в эксплуатацию                        180.0   \n",
       "\n",
       "  Мес. норма износа, % Износ, %  Unnamed: 19  Unnamed: 20 Unnamed: 21  \\\n",
       "0                1.667      100     14060.00          1.0    14060.00   \n",
       "1                0.556      100     12213.00          1.0    12213.00   \n",
       "2                0.556      100     11216.49          1.0    11216.49   \n",
       "\n",
       "   Unnamed: 22  \n",
       "0          0.0  \n",
       "1          0.0  \n",
       "2          0.0  \n",
       "\n",
       "[3 rows x 23 columns]"
      ]
     },
     "execution_count": 1,
     "metadata": {},
     "output_type": "execute_result"
    }
   ],
   "source": [
    "import pandas as pd\n",
    "df = pd.read_excel('../data/Ведомость_остатков_на_31_12_2022г_сч_101.xlsx')\n",
    "df.head(3)"
   ]
  },
  {
   "cell_type": "code",
   "execution_count": 3,
   "metadata": {},
   "outputs": [
    {
     "data": {
      "text/plain": [
       "Index(['№ п/п', 'Unnamed: 1', 'Основное средство', 'Unnamed: 3', 'Unnamed: 4',\n",
       "       'Unnamed: 5', 'Unnamed: 6', 'Unnamed: 7', 'Unnamed: 8',\n",
       "       'Инвентарный номер', 'ОКОФ', 'Unnamed: 11', 'Амортизационная группа',\n",
       "       'Способ начисления амортизации', 'Дата принятия к учету', 'Состояние',\n",
       "       'Срок полезного использования', 'Мес. норма износа, %', 'Износ, %',\n",
       "       'Unnamed: 19', 'Unnamed: 20', 'Unnamed: 21', 'Unnamed: 22'],\n",
       "      dtype='object')"
      ]
     },
     "execution_count": 3,
     "metadata": {},
     "output_type": "execute_result"
    }
   ],
   "source": [
    "df.columns"
   ]
  },
  {
   "cell_type": "code",
   "execution_count": 2,
   "metadata": {},
   "outputs": [
    {
     "data": {
      "text/plain": [
       "['№ п/п',\n",
       " 'Основное средство',\n",
       " 'Инвентарный номер',\n",
       " 'ОКОФ',\n",
       " 'Амортизационная группа',\n",
       " 'Способ начисления амортизации',\n",
       " 'Дата принятия к учету',\n",
       " 'Состояние',\n",
       " 'Срок полезного использования',\n",
       " 'Мес. норма износа, %',\n",
       " 'Износ, %']"
      ]
     },
     "execution_count": 2,
     "metadata": {},
     "output_type": "execute_result"
    }
   ],
   "source": [
    "[col for col in df.columns if 'Unnamed: ' not in col]"
   ]
  },
  {
   "cell_type": "code",
   "execution_count": 12,
   "metadata": {},
   "outputs": [
    {
     "data": {
      "text/html": [
       "<div>\n",
       "<style scoped>\n",
       "    .dataframe tbody tr th:only-of-type {\n",
       "        vertical-align: middle;\n",
       "    }\n",
       "\n",
       "    .dataframe tbody tr th {\n",
       "        vertical-align: top;\n",
       "    }\n",
       "\n",
       "    .dataframe thead th {\n",
       "        text-align: right;\n",
       "    }\n",
       "</style>\n",
       "<table border=\"1\" class=\"dataframe\">\n",
       "  <thead>\n",
       "    <tr style=\"text-align: right;\">\n",
       "      <th></th>\n",
       "      <th>№ п/п</th>\n",
       "      <th>Основное средство</th>\n",
       "      <th>Инвентарный номер</th>\n",
       "      <th>ОКОФ</th>\n",
       "      <th>Амортизационная группа</th>\n",
       "      <th>Способ начисления амортизации</th>\n",
       "      <th>Дата принятия к учету</th>\n",
       "      <th>Состояние</th>\n",
       "      <th>Срок полезного использования</th>\n",
       "      <th>Мес. норма износа, %</th>\n",
       "      <th>Износ, %</th>\n",
       "    </tr>\n",
       "  </thead>\n",
       "  <tbody>\n",
       "    <tr>\n",
       "      <th>0</th>\n",
       "      <td>113</td>\n",
       "      <td>Термогигрометр TESTO 410-2</td>\n",
       "      <td>1.101360e+13</td>\n",
       "      <td>330.26.51.51</td>\n",
       "      <td>3.0</td>\n",
       "      <td>100% при вводе в эксплуатацию</td>\n",
       "      <td>15.07.2020</td>\n",
       "      <td>Введено в эксплуатацию</td>\n",
       "      <td>60.0</td>\n",
       "      <td>1.667</td>\n",
       "      <td>100</td>\n",
       "    </tr>\n",
       "    <tr>\n",
       "      <th>1</th>\n",
       "      <td>114</td>\n",
       "      <td>Стеллаж СТ-150 2000х1000х600 5 полок, 150кг на...</td>\n",
       "      <td>1.101361e+13</td>\n",
       "      <td>330.31.01.11</td>\n",
       "      <td>6.0</td>\n",
       "      <td>100% при вводе в эксплуатацию</td>\n",
       "      <td>06.09.2021</td>\n",
       "      <td>Введено в эксплуатацию</td>\n",
       "      <td>180.0</td>\n",
       "      <td>0.556</td>\n",
       "      <td>100</td>\n",
       "    </tr>\n",
       "  </tbody>\n",
       "</table>\n",
       "</div>"
      ],
      "text/plain": [
       "  № п/п                                  Основное средство  Инвентарный номер  \\\n",
       "0   113                         Термогигрометр TESTO 410-2       1.101360e+13   \n",
       "1   114  Стеллаж СТ-150 2000х1000х600 5 полок, 150кг на...       1.101361e+13   \n",
       "\n",
       "               ОКОФ  Амортизационная группа  Способ начисления амортизации  \\\n",
       "0  330.26.51.51                         3.0  100% при вводе в эксплуатацию   \n",
       "1  330.31.01.11                         6.0  100% при вводе в эксплуатацию   \n",
       "\n",
       "  Дата принятия к учету               Состояние  Срок полезного использования  \\\n",
       "0            15.07.2020  Введено в эксплуатацию                          60.0   \n",
       "1            06.09.2021  Введено в эксплуатацию                         180.0   \n",
       "\n",
       "   Мес. норма износа, % Износ, %  \n",
       "0                 1.667      100  \n",
       "1                 0.556      100  "
      ]
     },
     "execution_count": 12,
     "metadata": {},
     "output_type": "execute_result"
    }
   ],
   "source": [
    "df = df[[col for col in df.columns if 'Unnamed: ' not in col]]\n",
    "df.head(2)"
   ]
  },
  {
   "cell_type": "code",
   "execution_count": 13,
   "metadata": {},
   "outputs": [],
   "source": [
    "df.to_csv('./Ведомость_остатков_на_31_12_2022г_сч_101.csv', sep=';', index=False)"
   ]
  },
  {
   "cell_type": "code",
   "execution_count": null,
   "metadata": {},
   "outputs": [],
   "source": []
  }
 ],
 "metadata": {
  "kernelspec": {
   "display_name": "Python 3",
   "language": "python",
   "name": "python3"
  },
  "language_info": {
   "codemirror_mode": {
    "name": "ipython",
    "version": 3
   },
   "file_extension": ".py",
   "mimetype": "text/x-python",
   "name": "python",
   "nbconvert_exporter": "python",
   "pygments_lexer": "ipython3",
   "version": "3.12.3"
  }
 },
 "nbformat": 4,
 "nbformat_minor": 2
}
