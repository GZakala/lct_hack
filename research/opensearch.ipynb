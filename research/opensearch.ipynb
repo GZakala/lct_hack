{
 "cells": [
  {
   "cell_type": "code",
   "execution_count": 1,
   "metadata": {},
   "outputs": [],
   "source": [
    "import sys\n",
    "from pathlib import Path\n",
    "sys.path.insert(0, str(Path.cwd().parent))\n",
    "\n",
    "from statistics_server.psql_client import PSQLClient\n",
    "sql_client = PSQLClient(\n",
    "\thost='0.0.0.0',\n",
    "\tport=5432,\n",
    "\tuser='default',\n",
    "\tpassword='12345',\n",
    "\tdbname='hack',\n",
    ")"
   ]
  },
  {
   "cell_type": "code",
   "execution_count": 2,
   "metadata": {},
   "outputs": [],
   "source": [
    "from opensearchpy import OpenSearch\n",
    "client = OpenSearch(\n",
    "\thosts=[{'host': 'localhost', 'port': 9200}],\n",
    "\thttp_compress=True,\n",
    "\thttp_auth=('admin', 'admin'),\n",
    "\tuse_ssl=False,\n",
    "\tverify_certs=False,\n",
    "\tssl_assert_hostname=False,\n",
    "\tssl_show_warn=False,\n",
    ")"
   ]
  },
  {
   "cell_type": "code",
   "execution_count": null,
   "metadata": {},
   "outputs": [],
   "source": [
    "client.indices."
   ]
  },
  {
   "cell_type": "code",
   "execution_count": 3,
   "metadata": {},
   "outputs": [
    {
     "name": "stdout",
     "output_type": "stream",
     "text": [
      "yellow open kpgz                         jaKgOEs_R_ywP9eSI9f1yg 3 2  0 0    624b    624b\n",
      "yellow open security-auditlog-2024.06.06 yozaIgKBSIK6p_dBxE93HA 1 1 16 0 116.6kb 116.6kb\n",
      "green  open .opendistro_security         jVzEvxlfQ9SODb1o8k8Ndw 1 0  9 0  60.9kb  60.9kb\n",
      "\n"
     ]
    }
   ],
   "source": [
    "print(client.cat.indices())"
   ]
  },
  {
   "cell_type": "code",
   "execution_count": null,
   "metadata": {},
   "outputs": [],
   "source": []
  },
  {
   "cell_type": "code",
   "execution_count": null,
   "metadata": {},
   "outputs": [],
   "source": []
  }
 ],
 "metadata": {
  "kernelspec": {
   "display_name": ".venv",
   "language": "python",
   "name": "python3"
  },
  "language_info": {
   "codemirror_mode": {
    "name": "ipython",
    "version": 3
   },
   "file_extension": ".py",
   "mimetype": "text/x-python",
   "name": "python",
   "nbconvert_exporter": "python",
   "pygments_lexer": "ipython3",
   "version": "3.12.3"
  }
 },
 "nbformat": 4,
 "nbformat_minor": 2
}
