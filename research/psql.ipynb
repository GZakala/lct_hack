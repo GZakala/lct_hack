{
 "cells": [
  {
   "cell_type": "code",
   "execution_count": 1,
   "metadata": {},
   "outputs": [],
   "source": [
    "import psycopg2\n",
    "client = psycopg2.connect(host='0.0.0.0', port=5432, dbname='hack', user='default', password='12345')"
   ]
  },
  {
   "cell_type": "code",
   "execution_count": 10,
   "metadata": {},
   "outputs": [
    {
     "name": "stdout",
     "output_type": "stream",
     "text": [
      "(101, datetime.date(2022, 6, 30), 'Кузнецов Максим Сергеевич', 1, '101.34', '11013405000015', '330.28.25.13.110', '5', '100% при вводе в эксплуатацию', datetime.date(2020, 10, 28), 'Введено в эксплуатацию', 120, Decimal('0.83'), Decimal('100.00'), 'Холодильник ATLANT МХ 5810-62, однокамерный, объем 285 л, без морозильной камеры, белый', Decimal('15004.26'), 1, Decimal('15004.26'), Decimal('0.00'))\n",
      "(101, datetime.date(2022, 6, 30), 'Кузнецов Максим Сергеевич', 1, '101.34', '11013405000016', '330.28.25.13.110', '5', '100% при вводе в эксплуатацию', datetime.date(2020, 10, 28), 'Введено в эксплуатацию', 120, Decimal('0.83'), Decimal('100.00'), 'Холодильник ATLANT МХ 5810-62, однокамерный, объем 285 л, без морозильной камеры, белый', Decimal('15004.26'), 1, Decimal('15004.26'), Decimal('0.00'))\n",
      "(101, datetime.date(2022, 6, 30), 'Кузнецов Максим Сергеевич', 1, '101.34', '11013405000019', '330.28.25.13.110', '5', '100% при вводе в эксплуатацию', datetime.date(2020, 10, 28), 'Введено в эксплуатацию', 120, Decimal('0.83'), Decimal('100.00'), 'Холодильник ATLANT МХ 5810-62, однокамерный, объем 285 л, без морозильной камеры, белый', Decimal('15004.26'), 1, Decimal('15004.26'), Decimal('0.00'))\n",
      "(101, datetime.date(2022, 6, 30), 'Кузнецов Максим Сергеевич', 1, '101.34', '11013406003668', '330.26.60.13', '6', '100% при вводе в эксплуатацию', datetime.date(2020, 11, 11), 'Введено в эксплуатацию', 180, Decimal('0.56'), Decimal('100.00'), 'Рециркулятор бактерицидный ОВУ-06 \" Солнечный бриз-6\"', Decimal('21342.75'), 1, Decimal('21342.75'), Decimal('0.00'))\n",
      "(101, datetime.date(2022, 6, 30), 'Кузнецов Максим Сергеевич', 1, '101.34', '11013406003669', '330.26.60.13', '6', '100% при вводе в эксплуатацию', datetime.date(2020, 11, 11), 'Введено в эксплуатацию', 180, Decimal('0.56'), Decimal('100.00'), 'Рециркулятор бактерицидный ОВУ-06 \" Солнечный бриз-6\"', Decimal('21342.75'), 1, Decimal('21342.75'), Decimal('0.00'))\n",
      "(101, datetime.date(2022, 6, 30), 'Кузнецов Максим Сергеевич', 1, '101.34', '11013406003672', '330.26.60.13', '6', '100% при вводе в эксплуатацию', datetime.date(2020, 11, 11), 'Введено в эксплуатацию', 180, Decimal('0.56'), Decimal('100.00'), 'Рециркулятор бактерицидный ОВУ-06 \" Солнечный бриз-6\"', Decimal('21342.75'), 1, Decimal('21342.75'), Decimal('0.00'))\n",
      "(101, datetime.date(2022, 6, 30), 'Кузнецов Максим Сергеевич', 1, '101.34', '11013406003674', '330.26.60.13', '6', '100% при вводе в эксплуатацию', datetime.date(2020, 11, 11), 'Введено в эксплуатацию', 180, Decimal('0.56'), Decimal('100.00'), 'Рециркулятор бактерицидный ОВУ-06 \" Солнечный бриз-6\"', Decimal('21342.75'), 1, Decimal('21342.75'), Decimal('0.00'))\n",
      "(101, datetime.date(2022, 6, 30), 'Кузнецов Максим Сергеевич', 1, '101.34', '4101340400014', '330.28.29.22.110', '4', '100% при вводе в эксплуатацию', datetime.date(2016, 3, 17), 'Введено в эксплуатацию', 84, Decimal('1.19'), Decimal('100.00'), 'Огнетушитель  \"Bontel\" 2 кг', Decimal('4300.00'), 1, Decimal('4300.00'), Decimal('0.00'))\n",
      "(101, datetime.date(2022, 6, 30), 'Кузнецов Максим Сергеевич', 1, '101.34', '4101340400015', '330.28.29.22.110', '4', '100% при вводе в эксплуатацию', datetime.date(2016, 3, 17), 'Введено в эксплуатацию', 84, Decimal('1.19'), Decimal('100.00'), 'Огнетушитель  \"Bontel\" 2 кг', Decimal('4300.00'), 1, Decimal('4300.00'), Decimal('0.00'))\n",
      "(101, datetime.date(2022, 6, 30), 'Кузнецов Максим Сергеевич', 1, '101.34', '4101340400019', '330.28.29.22.110', '4', '100% при вводе в эксплуатацию', datetime.date(2016, 3, 17), 'Введено в эксплуатацию', 84, Decimal('1.19'), Decimal('100.00'), 'Огнетушитель  \"Bontel\" 2 кг', Decimal('4300.00'), 1, Decimal('4300.00'), Decimal('0.00'))\n"
     ]
    }
   ],
   "source": [
    "cursor = client.cursor()\n",
    "sql = \"\"\"\n",
    "select * from balances_account_101 limit 10\n",
    "\"\"\"\n",
    "cursor.execute(sql)\n",
    "columns = [desc[0] for desc in cursor.description]\n",
    "for row in cursor:\n",
    "\tprint(row)\n",
    "cursor.close()"
   ]
  },
  {
   "cell_type": "code",
   "execution_count": 8,
   "metadata": {},
   "outputs": [
    {
     "data": {
      "text/plain": [
       "PosixPath('/home/ubuntu/lct_hack/research')"
      ]
     },
     "execution_count": 8,
     "metadata": {},
     "output_type": "execute_result"
    }
   ],
   "source": [
    "import os\n",
    "from pathlib import Path\n",
    "d = Path.cwd()\n",
    "d"
   ]
  },
  {
   "cell_type": "code",
   "execution_count": 13,
   "metadata": {},
   "outputs": [
    {
     "data": {
      "text/plain": [
       "['to_csv.ipynb', 'psql.ipynb']"
      ]
     },
     "execution_count": 13,
     "metadata": {},
     "output_type": "execute_result"
    }
   ],
   "source": [
    "os.listdir(d)"
   ]
  },
  {
   "cell_type": "code",
   "execution_count": null,
   "metadata": {},
   "outputs": [],
   "source": []
  }
 ],
 "metadata": {
  "kernelspec": {
   "display_name": ".venv",
   "language": "python",
   "name": "python3"
  },
  "language_info": {
   "codemirror_mode": {
    "name": "ipython",
    "version": 3
   },
   "file_extension": ".py",
   "mimetype": "text/x-python",
   "name": "python",
   "nbconvert_exporter": "python",
   "pygments_lexer": "ipython3",
   "version": "3.12.3"
  }
 },
 "nbformat": 4,
 "nbformat_minor": 2
}
